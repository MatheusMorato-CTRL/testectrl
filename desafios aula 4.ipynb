{
 "cells": [
  {
   "cell_type": "code",
   "execution_count": null,
   "id": "cf61dba1-87a9-4a5c-b982-9934d296f3a7",
   "metadata": {},
   "outputs": [],
   "source": [
    "#DESAFIO 1\n",
    "# Lista com os meses do ano em inglês\n",
    "months = [\n",
    "    \"January\", \"February\", \"March\", \"April\", \"May\", \"June\",\n",
    "    \"July\", \"August\", \"September\", \"October\", \"November\", \"December\"\n",
    "]\n",
    "\n",
    "# Entrada do número do mês\n",
    "num = int(input())\n",
    "\n",
    "# Verifica se o número está entre 1 e 12 e imprime o mês correspondente\n",
    "if 1 <= num <= 12:\n",
    "    print(months[num - 1])"
   ]
  },
  {
   "cell_type": "code",
   "execution_count": 2,
   "id": "72257dfb-03b4-4b7c-9143-dde799b193a8",
   "metadata": {},
   "outputs": [
    {
     "name": "stdout",
     "output_type": "stream",
     "text": [
      "Cardápio:\n",
      "1 - Cachorro Quente - R$ 4.00\n",
      "2 - X-Salada        - R$ 4.50\n",
      "3 - X-Bacon         - R$ 5.00\n",
      "4 - Torrada Simples - R$ 2.00\n",
      "5 - Refrigerante    - R$ 1.50\n"
     ]
    },
    {
     "name": "stdin",
     "output_type": "stream",
     "text": [
      "Digite o código do item desejado (1 a 5):  5\n",
      "Digite a quantidade:  3\n"
     ]
    },
    {
     "name": "stdout",
     "output_type": "stream",
     "text": [
      "Total: R$ 4.50\n"
     ]
    }
   ],
   "source": [
    "#DESAFIO 2 \n",
    "# Dicionário com os códigos e seus respectivos preços\n",
    "menu = {\n",
    "    1: 4.00,\n",
    "    2: 4.50,\n",
    "    3: 5.00,\n",
    "    4: 2.00,\n",
    "    5: 1.50\n",
    "}\n",
    "\n",
    "# Explicando os códigos disponíveis\n",
    "print(\"Cardápio:\")\n",
    "print(\"1 - Cachorro Quente - R$ 4.00\")\n",
    "print(\"2 - X-Salada        - R$ 4.50\")\n",
    "print(\"3 - X-Bacon         - R$ 5.00\")\n",
    "print(\"4 - Torrada Simples - R$ 2.00\")\n",
    "print(\"5 - Refrigerante    - R$ 1.50\")\n",
    "\n",
    "# Lê o código do item\n",
    "codigo = int(input(\"Digite o código do item desejado (1 a 5): \"))\n",
    "\n",
    "# Lê a quantidade\n",
    "quantidade = int(input(\"Digite a quantidade: \"))\n",
    "\n",
    "# Calcula o valor total\n",
    "total = menu[codigo] * quantidade\n",
    "\n",
    "# Exibe o resultado formatado\n",
    "print(f\"Total: R$ {total:.2f}\")\n"
   ]
  },
  {
   "cell_type": "code",
   "execution_count": null,
   "id": "66f8c820-a365-404c-8913-fe74ae89e53b",
   "metadata": {},
   "outputs": [],
   "source": []
  },
  {
   "cell_type": "code",
   "execution_count": 1,
   "id": "442e5b55-dce3-470a-9407-3871c2f90647",
   "metadata": {},
   "outputs": [
    {
     "name": "stdin",
     "output_type": "stream",
     "text": [
      "Digite sua idade:  10\n"
     ]
    },
    {
     "name": "stdout",
     "output_type": "stream",
     "text": [
      "Você é uma Criança.\n"
     ]
    }
   ],
   "source": [
    "idade = int(input(\"Digite sua idade: \"))\n",
    "\n",
    "if idade < 12:\n",
    "    print(\"Você é uma Criança.\")\n",
    "elif idade < 18:\n",
    "    print(\"Você é um(a) Adolescente.\")\n",
    "elif idade < 60:\n",
    "    print(\"Você é um(a) Adulto(a).\")\n",
    "else:\n",
    "    print(\"Você é um(a) Idoso(a).\")\n"
   ]
  },
  {
   "cell_type": "code",
   "execution_count": null,
   "id": "3a8cf0d7-043a-423f-b3e2-ed0eef3f8e54",
   "metadata": {},
   "outputs": [],
   "source": []
  }
 ],
 "metadata": {
  "kernelspec": {
   "display_name": "Python 3 (ipykernel)",
   "language": "python",
   "name": "python3"
  },
  "language_info": {
   "codemirror_mode": {
    "name": "ipython",
    "version": 3
   },
   "file_extension": ".py",
   "mimetype": "text/x-python",
   "name": "python",
   "nbconvert_exporter": "python",
   "pygments_lexer": "ipython3",
   "version": "3.12.7"
  }
 },
 "nbformat": 4,
 "nbformat_minor": 5
}
